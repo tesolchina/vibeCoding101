{
 "cells": [
  {
   "cell_type": "markdown",
   "metadata": {},
   "source": [
    "# Welcome to Vibe Coding 101! 🚀\n",
    "\n",
    "This notebook is designed for students who are **new to computer programming**. You'll learn how to:\n",
    "- Write your first Python programs\n",
    "- Use AI tools like GitHub Copilot to help you code\n",
    "- Work with files and data\n",
    "- Understand the power of \"vibe coding\" - describing what you want in natural language\n",
    "\n",
    "## What is Vibe Coding?\n",
    "\n",
    "Vibe coding is a modern approach where you describe what you want your program to do in plain English (or any natural language), and AI tools help you write the actual code. It's like having a helpful coding assistant!\n",
    "\n",
    "## Getting Started\n",
    "\n",
    "Don't worry if you've never programmed before. This notebook will guide you step by step. Let's begin!"
   ]
  },
  {
   "cell_type": "markdown",
   "metadata": {},
   "source": [
    "## Section 1: Your First Python Code 🐍\n",
    "\n",
    "Let's start with something simple. Run the code cell below by clicking on it and pressing `Shift + Enter`."
   ]
  },
  {
   "cell_type": "code",
   "execution_count": null,
   "metadata": {},
   "outputs": [],
   "source": [
    "# This is a comment - it's a note for humans, not instructions for the computer\n",
    "# Let's print a message to the screen\n",
    "\n",
    "print(\"Hello, World!\")\n",
    "print(\"Welcome to programming!\")"
   ]
  },
  {
   "cell_type": "markdown",
   "metadata": {},
   "source": [
    "🎉 Congratulations! You just ran your first program!\n",
    "\n",
    "### Exercise 1.1: Personalize Your Greeting\n",
    "\n",
    "**Task:** Modify the code below to print a greeting with your name.\n",
    "\n",
    "**Tip:** You can ask GitHub Copilot: \"print a greeting with my name\" and see what it suggests!"
   ]
  },
  {
   "cell_type": "code",
   "execution_count": null,
   "metadata": {},
   "outputs": [],
   "source": [
    "# TODO: Write code to print a greeting with your name\n",
    "# Example: \"Hello, my name is [Your Name]!\"\n"
   ]
  },
  {
   "cell_type": "markdown",
   "metadata": {},
   "source": [
    "## Section 2: Working with Variables 📦\n",
    "\n",
    "Variables are like boxes that store information. You can put data in them and use it later."
   ]
  },
  {
   "cell_type": "code",
   "execution_count": null,
   "metadata": {},
   "outputs": [],
   "source": [
    "# Let's create some variables\n",
    "name = \"Student\"\n",
    "age = 20\n",
    "favorite_color = \"blue\"\n",
    "is_learning = True\n",
    "\n",
    "# Now let's use them\n",
    "print(f\"My name is {name}\")\n",
    "print(f\"I am {age} years old\")\n",
    "print(f\"My favorite color is {favorite_color}\")\n",
    "print(f\"Am I learning to code? {is_learning}\")"
   ]
  },
  {
   "cell_type": "markdown",
   "metadata": {},
   "source": [
    "### Exercise 2.1: Create Your Own Variables\n",
    "\n",
    "**Task:** Create variables about yourself and print them.\n",
    "\n",
    "**Vibe Coding Approach:** Describe what you want: \"I want to create variables for my hometown, favorite food, and a fun fact about me, then print them nicely.\""
   ]
  },
  {
   "cell_type": "code",
   "execution_count": null,
   "metadata": {},
   "outputs": [],
   "source": [
    "# TODO: Create variables about yourself\n",
    "# hometown = ?\n",
    "# favorite_food = ?\n",
    "# fun_fact = ?\n",
    "\n",
    "# TODO: Print them in a nice format\n"
   ]
  },
  {
   "cell_type": "markdown",
   "metadata": {},
   "source": [
    "## Section 3: Doing Math with Python 🔢\n",
    "\n",
    "Python can work like a powerful calculator!"
   ]
  },
  {
   "cell_type": "code",
   "execution_count": null,
   "metadata": {},
   "outputs": [],
   "source": [
    "# Basic math operations\n",
    "addition = 10 + 5\n",
    "subtraction = 20 - 8\n",
    "multiplication = 6 * 7\n",
    "division = 100 / 4\n",
    "power = 2 ** 3  # 2 to the power of 3\n",
    "\n",
    "print(f\"10 + 5 = {addition}\")\n",
    "print(f\"20 - 8 = {subtraction}\")\n",
    "print(f\"6 × 7 = {multiplication}\")\n",
    "print(f\"100 ÷ 4 = {division}\")\n",
    "print(f\"2³ = {power}\")"
   ]
  },
  {
   "cell_type": "markdown",
   "metadata": {},
   "source": [
    "### Exercise 3.1: Calculate Your Age in Days\n",
    "\n",
    "**Task:** Calculate approximately how many days old you are.\n",
    "\n",
    "**Hint:** Years × 365 (we'll keep it simple for now)"
   ]
  },
  {
   "cell_type": "code",
   "execution_count": null,
   "metadata": {},
   "outputs": [],
   "source": [
    "# TODO: Calculate your age in days\n",
    "# my_age_years = ?\n",
    "# my_age_days = ?\n",
    "# print(f\"I am approximately {my_age_days} days old!\")\n"
   ]
  },
  {
   "cell_type": "markdown",
   "metadata": {},
   "source": [
    "## Section 4: Making Decisions with If-Statements 🤔\n",
    "\n",
    "Programs can make decisions based on conditions!"
   ]
  },
  {
   "cell_type": "code",
   "execution_count": null,
   "metadata": {},
   "outputs": [],
   "source": [
    "# Let's check the temperature and decide what to wear\n",
    "temperature = 22  # in Celsius\n",
    "\n",
    "if temperature > 25:\n",
    "    print(\"It's hot! Wear shorts and a t-shirt.\")\n",
    "elif temperature > 15:\n",
    "    print(\"It's nice! Wear something comfortable.\")\n",
    "else:\n",
    "    print(\"It's cold! Wear a jacket.\")"
   ]
  },
  {
   "cell_type": "markdown",
   "metadata": {},
   "source": [
    "### Exercise 4.1: Grade Calculator\n",
    "\n",
    "**Task:** Write code that takes a test score and prints the corresponding grade.\n",
    "\n",
    "**Vibe Coding Prompt:** \"I need a program that checks if a score is 90 or above (A), 80-89 (B), 70-79 (C), 60-69 (D), or below 60 (F)\""
   ]
  },
  {
   "cell_type": "code",
   "execution_count": null,
   "metadata": {},
   "outputs": [],
   "source": [
    "# TODO: Write a grade calculator\n",
    "score = 85  # Try changing this number\n",
    "\n",
    "# Your if-statements here\n"
   ]
  },
  {
   "cell_type": "markdown",
   "metadata": {},
   "source": [
    "## Section 5: Working with Lists 📝\n",
    "\n",
    "Lists let you store multiple items in one variable."
   ]
  },
  {
   "cell_type": "code",
   "execution_count": null,
   "metadata": {},
   "outputs": [],
   "source": [
    "# Creating a list of favorite fruits\n",
    "fruits = [\"apple\", \"banana\", \"orange\", \"grape\", \"mango\"]\n",
    "\n",
    "print(\"My favorite fruits:\")\n",
    "print(fruits)\n",
    "\n",
    "# Accessing items in a list (counting starts at 0!)\n",
    "print(f\"\\nFirst fruit: {fruits[0]}\")\n",
    "print(f\"Second fruit: {fruits[1]}\")\n",
    "print(f\"Last fruit: {fruits[-1]}\")\n",
    "\n",
    "# Adding a new fruit\n",
    "fruits.append(\"strawberry\")\n",
    "print(f\"\\nAfter adding strawberry: {fruits}\")\n",
    "\n",
    "# How many fruits?\n",
    "print(f\"\\nTotal fruits: {len(fruits)}\")"
   ]
  },
  {
   "cell_type": "markdown",
   "metadata": {},
   "source": [
    "### Exercise 5.1: Your Favorite Things\n",
    "\n",
    "**Task:** Create a list of your favorite movies, songs, or hobbies, then print them one by one.\n",
    "\n",
    "**Vibe Coding Tip:** Try asking Copilot to \"create a list and print each item with a number\""
   ]
  },
  {
   "cell_type": "code",
   "execution_count": null,
   "metadata": {},
   "outputs": [],
   "source": [
    "# TODO: Create your own list\n",
    "# my_favorites = []\n",
    "\n",
    "# TODO: Print each item\n"
   ]
  },
  {
   "cell_type": "markdown",
   "metadata": {},
   "source": [
    "## Section 6: Loops - Repeating Actions 🔁\n",
    "\n",
    "Loops let you repeat actions without writing the same code over and over."
   ]
  },
  {
   "cell_type": "code",
   "execution_count": null,
   "metadata": {},
   "outputs": [],
   "source": [
    "# For loop - go through each item in a list\n",
    "colors = [\"red\", \"green\", \"blue\", \"yellow\"]\n",
    "\n",
    "print(\"Colors in my palette:\")\n",
    "for color in colors:\n",
    "    print(f\"- {color}\")\n",
    "\n",
    "# Counting with a loop\n",
    "print(\"\\nCounting to 5:\")\n",
    "for i in range(1, 6):\n",
    "    print(i)"
   ]
  },
  {
   "cell_type": "markdown",
   "metadata": {},
   "source": [
    "### Exercise 6.1: Multiplication Table\n",
    "\n",
    "**Task:** Create a multiplication table for the number 7.\n",
    "\n",
    "**Vibe Coding Prompt:** \"I want to print the multiplication table for 7, from 7×1 to 7×10\""
   ]
  },
  {
   "cell_type": "code",
   "execution_count": null,
   "metadata": {},
   "outputs": [],
   "source": [
    "# TODO: Create a multiplication table\n",
    "number = 7\n",
    "\n",
    "# Your loop here\n"
   ]
  },
  {
   "cell_type": "markdown",
   "metadata": {},
   "source": [
    "## Section 7: Creating Functions 🛠️\n",
    "\n",
    "Functions are reusable blocks of code that perform specific tasks."
   ]
  },
  {
   "cell_type": "code",
   "execution_count": null,
   "metadata": {},
   "outputs": [],
   "source": [
    "# Define a function to greet someone\n",
    "def greet(name):\n",
    "    return f\"Hello, {name}! Welcome to programming!\"\n",
    "\n",
    "# Use the function\n",
    "message1 = greet(\"Alice\")\n",
    "message2 = greet(\"Bob\")\n",
    "\n",
    "print(message1)\n",
    "print(message2)\n",
    "\n",
    "# Function with multiple parameters\n",
    "def calculate_rectangle_area(length, width):\n",
    "    area = length * width\n",
    "    return area\n",
    "\n",
    "room_area = calculate_rectangle_area(5, 4)\n",
    "print(f\"\\nRoom area: {room_area} square meters\")"
   ]
  },
  {
   "cell_type": "markdown",
   "metadata": {},
   "source": [
    "### Exercise 7.1: Create Your Own Function\n",
    "\n",
    "**Task:** Create a function that takes a person's birth year and returns their age.\n",
    "\n",
    "**Vibe Coding Approach:** \"I need a function that calculates age from birth year\""
   ]
  },
  {
   "cell_type": "code",
   "execution_count": null,
   "metadata": {},
   "outputs": [],
   "source": [
    "# TODO: Create a function to calculate age\n",
    "# def calculate_age(birth_year):\n",
    "#     current_year = 2025\n",
    "#     ...\n",
    "\n",
    "# Test your function\n",
    "# print(calculate_age(2000))\n"
   ]
  },
  {
   "cell_type": "markdown",
   "metadata": {},
   "source": [
    "## Section 8: Working with Files 📁\n",
    "\n",
    "Let's learn how to read from and write to files - an essential skill for data processing!"
   ]
  },
  {
   "cell_type": "code",
   "execution_count": null,
   "metadata": {},
   "outputs": [],
   "source": [
    "# Writing to a file\n",
    "shopping_list = [\"apples\", \"bread\", \"milk\", \"eggs\", \"cheese\"]\n",
    "\n",
    "# Create and write to a file\n",
    "with open(\"shopping_list.txt\", \"w\") as file:\n",
    "    file.write(\"My Shopping List\\n\")\n",
    "    file.write(\"=\" * 20 + \"\\n\")\n",
    "    for item in shopping_list:\n",
    "        file.write(f\"- {item}\\n\")\n",
    "\n",
    "print(\"✓ Shopping list has been saved to shopping_list.txt\")"
   ]
  },
  {
   "cell_type": "code",
   "execution_count": null,
   "metadata": {},
   "outputs": [],
   "source": [
    "# Reading from a file\n",
    "print(\"Reading from the file:\\n\")\n",
    "\n",
    "with open(\"shopping_list.txt\", \"r\") as file:\n",
    "    content = file.read()\n",
    "    print(content)"
   ]
  },
  {
   "cell_type": "markdown",
   "metadata": {},
   "source": [
    "### Exercise 8.1: Create a Journal Entry\n",
    "\n",
    "**Task:** Write a program that creates a journal entry file with today's date and some thoughts.\n",
    "\n",
    "**Vibe Coding Prompt:** \"I want to create a journal entry file with today's date, a title, and some content\""
   ]
  },
  {
   "cell_type": "code",
   "execution_count": null,
   "metadata": {},
   "outputs": [],
   "source": [
    "# TODO: Create a journal entry\n",
    "from datetime import datetime\n",
    "\n",
    "# Get today's date\n",
    "today = datetime.now().strftime(\"%Y-%m-%d\")\n",
    "\n",
    "# Your code to write a journal entry\n"
   ]
  },
  {
   "cell_type": "markdown",
   "metadata": {},
   "source": [
    "## Section 9: Working with CSV Files 📊\n",
    "\n",
    "CSV (Comma-Separated Values) files are commonly used for storing tabular data."
   ]
  },
  {
   "cell_type": "code",
   "execution_count": null,
   "metadata": {},
   "outputs": [],
   "source": [
    "import csv\n",
    "\n",
    "# Create sample student data\n",
    "students = [\n",
    "    [\"Name\", \"Age\", \"Grade\"],\n",
    "    [\"Alice\", 20, 95],\n",
    "    [\"Bob\", 21, 87],\n",
    "    [\"Charlie\", 19, 92],\n",
    "    [\"Diana\", 20, 88]\n",
    "]\n",
    "\n",
    "# Write to CSV file\n",
    "with open(\"students.csv\", \"w\", newline='') as file:\n",
    "    writer = csv.writer(file)\n",
    "    writer.writerows(students)\n",
    "\n",
    "print(\"✓ Student data has been saved to students.csv\")"
   ]
  },
  {
   "cell_type": "code",
   "execution_count": null,
   "metadata": {},
   "outputs": [],
   "source": [
    "# Read from CSV file\n",
    "print(\"Reading student data:\\n\")\n",
    "\n",
    "with open(\"students.csv\", \"r\") as file:\n",
    "    reader = csv.reader(file)\n",
    "    for row in reader:\n",
    "        print(\" | \".join(row))"
   ]
  },
  {
   "cell_type": "markdown",
   "metadata": {},
   "source": [
    "### Exercise 9.1: Calculate Class Average\n",
    "\n",
    "**Task:** Read the students.csv file and calculate the average grade.\n",
    "\n",
    "**Vibe Coding Approach:** \"I need to read a CSV file, extract the grades (skipping the header), and calculate the average\""
   ]
  },
  {
   "cell_type": "code",
   "execution_count": null,
   "metadata": {},
   "outputs": [],
   "source": [
    "# TODO: Calculate average grade from CSV\n",
    "import csv\n",
    "\n",
    "# Your code here\n"
   ]
  },
  {
   "cell_type": "markdown",
   "metadata": {},
   "source": [
    "## Section 10: Working with JSON Files 🔧\n",
    "\n",
    "JSON is a popular format for storing and exchanging data, especially in web applications."
   ]
  },
  {
   "cell_type": "code",
   "execution_count": null,
   "metadata": {},
   "outputs": [],
   "source": [
    "import json\n",
    "\n",
    "# Create a dictionary with user data\n",
    "user_profile = {\n",
    "    \"name\": \"Alex\",\n",
    "    \"age\": 22,\n",
    "    \"email\": \"alex@example.com\",\n",
    "    \"hobbies\": [\"reading\", \"coding\", \"gaming\"],\n",
    "    \"is_student\": True,\n",
    "    \"address\": {\n",
    "        \"city\": \"San Francisco\",\n",
    "        \"country\": \"USA\"\n",
    "    }\n",
    "}\n",
    "\n",
    "# Write to JSON file\n",
    "with open(\"user_profile.json\", \"w\") as file:\n",
    "    json.dump(user_profile, file, indent=4)\n",
    "\n",
    "print(\"✓ User profile has been saved to user_profile.json\")"
   ]
  },
  {
   "cell_type": "code",
   "execution_count": null,
   "metadata": {},
   "outputs": [],
   "source": [
    "# Read from JSON file\n",
    "with open(\"user_profile.json\", \"r\") as file:\n",
    "    loaded_profile = json.load(file)\n",
    "\n",
    "print(\"Loaded profile:\")\n",
    "print(f\"Name: {loaded_profile['name']}\")\n",
    "print(f\"Age: {loaded_profile['age']}\")\n",
    "print(f\"Hobbies: {', '.join(loaded_profile['hobbies'])}\")\n",
    "print(f\"Location: {loaded_profile['address']['city']}, {loaded_profile['address']['country']}\")"
   ]
  },
  {
   "cell_type": "markdown",
   "metadata": {},
   "source": [
    "### Exercise 10.1: Create Your Config File\n",
    "\n",
    "**Task:** Create a JSON configuration file for a simple app with settings like theme, language, and notifications.\n",
    "\n",
    "**Vibe Coding Prompt:** \"I need to create a JSON config file with app settings and then read it back\""
   ]
  },
  {
   "cell_type": "code",
   "execution_count": null,
   "metadata": {},
   "outputs": [],
   "source": [
    "# TODO: Create and save a config file\n",
    "import json\n",
    "\n",
    "# Your code here\n"
   ]
  },
  {
   "cell_type": "markdown",
   "metadata": {},
   "source": [
    "## Section 11: Bonus - Using AI for Data Analysis 📈\n",
    "\n",
    "Let's explore how you can use vibe coding to analyze data!"
   ]
  },
  {
   "cell_type": "code",
   "execution_count": null,
   "metadata": {},
   "outputs": [],
   "source": [
    "# Sample sales data\n",
    "sales_data = [\n",
    "    {\"month\": \"January\", \"sales\": 15000},\n",
    "    {\"month\": \"February\", \"sales\": 18000},\n",
    "    {\"month\": \"March\", \"sales\": 22000},\n",
    "    {\"month\": \"April\", \"sales\": 19000},\n",
    "    {\"month\": \"May\", \"sales\": 25000}\n",
    "]\n",
    "\n",
    "# Calculate total sales\n",
    "total_sales = sum(month[\"sales\"] for month in sales_data)\n",
    "average_sales = total_sales / len(sales_data)\n",
    "\n",
    "# Find best and worst months\n",
    "best_month = max(sales_data, key=lambda x: x[\"sales\"])\n",
    "worst_month = min(sales_data, key=lambda x: x[\"sales\"])\n",
    "\n",
    "print(\"Sales Analysis Report\")\n",
    "print(\"=\" * 40)\n",
    "print(f\"Total Sales: ${total_sales:,.2f}\")\n",
    "print(f\"Average Monthly Sales: ${average_sales:,.2f}\")\n",
    "print(f\"\\nBest Month: {best_month['month']} (${best_month['sales']:,.2f})\")\n",
    "print(f\"Worst Month: {worst_month['month']} (${worst_month['sales']:,.2f})\")"
   ]
  },
  {
   "cell_type": "markdown",
   "metadata": {},
   "source": [
    "### Exercise 11.1: Your Own Data Analysis\n",
    "\n",
    "**Task:** Create your own dataset (e.g., daily temperatures, study hours, or exercise minutes) and perform basic analysis.\n",
    "\n",
    "**Vibe Coding Challenge:** Try describing your analysis needs to Copilot and see how it helps!"
   ]
  },
  {
   "cell_type": "code",
   "execution_count": null,
   "metadata": {},
   "outputs": [],
   "source": [
    "# TODO: Create your own dataset and analyze it\n",
    "# Example: daily_steps = [5000, 7500, 8200, 6300, 9100, 4500, 5800]\n",
    "\n",
    "# Your analysis code here\n"
   ]
  },
  {
   "cell_type": "markdown",
   "metadata": {},
   "source": [
    "## 🎯 Final Challenge: Build Your Own Project!\n",
    "\n",
    "Now that you've learned the basics, try creating a small project that combines multiple concepts:\n",
    "\n",
    "### Project Ideas:\n",
    "1. **Personal Budget Tracker**: Track expenses, save to CSV, and generate a summary\n",
    "2. **To-Do List Manager**: Add/remove tasks, save to JSON, mark as complete\n",
    "3. **Simple Grade Book**: Store student info, calculate averages, identify top performers\n",
    "4. **Reading Log**: Track books you've read with ratings and notes\n",
    "\n",
    "### How to Approach:\n",
    "1. **Describe what you want** in plain English\n",
    "2. **Break it down** into smaller steps\n",
    "3. **Use GitHub Copilot** to help with code suggestions\n",
    "4. **Test as you go** - run your code frequently\n",
    "5. **Debug with AI help** - if something doesn't work, ask Copilot why!\n",
    "\n",
    "Use the cells below to build your project:"
   ]
  },
  {
   "cell_type": "code",
   "execution_count": null,
   "metadata": {},
   "outputs": [],
   "source": [
    "# YOUR FINAL PROJECT CODE HERE\n",
    "# Remember: Start simple, test often, and use AI to help!\n"
   ]
  },
  {
   "cell_type": "markdown",
   "metadata": {},
   "source": [
    "## 🎓 Congratulations!\n",
    "\n",
    "You've completed Vibe Coding 101! You've learned:\n",
    "- ✅ Basic Python syntax and concepts\n",
    "- ✅ How to use variables, loops, and functions\n",
    "- ✅ How to work with files (text, CSV, and JSON)\n",
    "- ✅ How to leverage AI tools like GitHub Copilot\n",
    "- ✅ The power of \"vibe coding\" - describing what you want and letting AI help\n",
    "\n",
    "### Next Steps:\n",
    "- Keep practicing with your own projects\n",
    "- Explore Python libraries like `pandas` for data analysis\n",
    "- Learn about web development with Flask or Django\n",
    "- Try automation with Python scripts\n",
    "- Join coding communities and share your projects\n",
    "\n",
    "### Tips for Success:\n",
    "- 💡 **Don't be afraid to experiment** - you can't break anything!\n",
    "- 🤝 **Use AI as a learning partner** - ask questions, try suggestions\n",
    "- 🔄 **Practice regularly** - coding is a skill that improves with use\n",
    "- 📚 **Read other people's code** - learn from examples\n",
    "- 🎯 **Build things you care about** - it's more fun when it's personal!\n",
    "\n",
    "Happy coding! 🚀"
   ]
  }
 ],
 "metadata": {
  "kernelspec": {
   "display_name": "Python 3",
   "language": "python",
   "name": "python3"
  },
  "language_info": {
   "codemirror_mode": {
    "name": "ipython",
    "version": 3
   },
   "file_extension": ".py",
   "mimetype": "text/x-python",
   "name": "python",
   "nbconvert_exporter": "python",
   "pygments_lexer": "ipython3",
   "version": "3.8.0"
  }
 },
 "nbformat": 4,
 "nbformat_minor": 4
}
